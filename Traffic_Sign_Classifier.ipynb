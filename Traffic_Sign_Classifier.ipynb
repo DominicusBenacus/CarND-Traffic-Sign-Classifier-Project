{
 "cells": [
  {
   "cell_type": "markdown",
   "metadata": {},
   "source": [
    "# Self-Driving Car Engineer Nanodegree\n",
    "\n",
    "## Deep Learning\n",
    "\n",
    "## Project: Build a Traffic Sign Recognition Classifier\n",
    "\n",
    "In this notebook, a template is provided for you to implement your functionality in stages, which is required to successfully complete this project. If additional code is required that cannot be included in the notebook, be sure that the Python code is successfully imported and included in your submission if necessary. \n",
    "\n",
    "> **Note**: Once you have completed all of the code implementations, you need to finalize your work by exporting the iPython Notebook as an HTML document. Before exporting the notebook to html, all of the code cells need to have been run so that reviewers can see the final implementation and output. You can then export the notebook by using the menu above and navigating to  \\n\",\n",
    "    \"**File -> Download as -> HTML (.html)**. Include the finished document along with this notebook as your submission. \n",
    "\n",
    "In addition to implementing code, there is a writeup to complete. The writeup should be completed in a separate file, which can be either a markdown file or a pdf document. There is a [write up template](https://github.com/udacity/CarND-Traffic-Sign-Classifier-Project/blob/master/writeup_template.md) that can be used to guide the writing process. Completing the code template and writeup template will cover all of the [rubric points](https://review.udacity.com/#!/rubrics/481/view) for this project.\n",
    "\n",
    "The [rubric](https://review.udacity.com/#!/rubrics/481/view) contains \"Stand Out Suggestions\" for enhancing the project beyond the minimum requirements. The stand out suggestions are optional. If you decide to pursue the \"stand out suggestions\", you can include the code in this Ipython notebook and also discuss the results in the writeup file.\n",
    "\n",
    "\n",
    ">**Note:** Code and Markdown cells can be executed using the **Shift + Enter** keyboard shortcut. In addition, Markdown cells can be edited by typically double-clicking the cell to enter edit mode."
   ]
  },
  {
   "cell_type": "code",
   "execution_count": 41,
   "metadata": {
    "collapsed": false
   },
   "outputs": [],
   "source": [
    "%matplotlib inline\n",
    "import numpy as np\n",
    "import matplotlib\n",
    "from matplotlib import pyplot as plt\n",
    "import tensorflow as tf\n",
    "import cv2 as cv\n",
    "import pickle\n"
   ]
  },
  {
   "cell_type": "markdown",
   "metadata": {},
   "source": [
    "---\n",
    "## Step 0: Load The Data"
   ]
  },
  {
   "cell_type": "code",
   "execution_count": 4,
   "metadata": {
    "collapsed": true
   },
   "outputs": [],
   "source": [
    "def load_pickled_data(file, columns):\n",
    "    \n",
    "    with open(file, mode='rb') as f:\n",
    "        dataset = pickle.load(f)\n",
    "    return tuple(map(lambda c: dataset[c], columns))"
   ]
  },
  {
   "cell_type": "code",
   "execution_count": 5,
   "metadata": {
    "collapsed": false
   },
   "outputs": [],
   "source": [
    "# Load pickled data\n",
    "import pickle\n",
    "from pandas.io.parsers import read_csv\n",
    "\n",
    "# TODO: Fill this in based on where you saved the training and testing data\n",
    "training_file = 'train.p'\n",
    "validation_file='valid.p'\n",
    "testing_file = 'test.p'\n",
    "traffic_sign_meaning = read_csv(\"signnames.csv\").values[:, 1]\n",
    "\n",
    "\n",
    "X_train, y_train = load_pickled_data(training_file, ['features', 'labels'])\n",
    "X_test, y_test = load_pickled_data(testing_file, ['features', 'labels'])\n",
    "X_valid, y_valid = load_pickled_data(validation_file, ['features', 'labels'])\n"
   ]
  },
  {
   "cell_type": "markdown",
   "metadata": {},
   "source": [
    "---\n",
    "\n",
    "## Step 1: Dataset Summary & Exploration\n",
    "\n",
    "The pickled data is a dictionary with 4 key/value pairs:\n",
    "\n",
    "- `'features'` is a 4D array containing raw pixel data of the traffic sign images, (num examples, width, height, channels).\n",
    "- `'labels'` is a 1D array containing the label/class id of the traffic sign. The file `signnames.csv` contains id -> name mappings for each id.\n",
    "- `'sizes'` is a list containing tuples, (width, height) representing the original width and height the image.\n",
    "- `'coords'` is a list containing tuples, (x1, y1, x2, y2) representing coordinates of a bounding box around the sign in the image. **THESE COORDINATES ASSUME THE ORIGINAL IMAGE. THE PICKLED DATA CONTAINS RESIZED VERSIONS (32 by 32) OF THESE IMAGES**\n",
    "\n",
    "Complete the basic data summary below. Use python, numpy and/or pandas methods to calculate the data summary rather than hard coding the results. For example, the [pandas shape method](http://pandas.pydata.org/pandas-docs/stable/generated/pandas.DataFrame.shape.html) might be useful for calculating some of the summary results. "
   ]
  },
  {
   "cell_type": "markdown",
   "metadata": {},
   "source": [
    "### Provide a Basic Summary of the Data Set Using Python, Numpy and/or Pandas"
   ]
  },
  {
   "cell_type": "code",
   "execution_count": 6,
   "metadata": {
    "collapsed": false
   },
   "outputs": [
    {
     "name": "stdout",
     "output_type": "stream",
     "text": [
      "Number of training examples = 34799\n",
      "Number of testing examples = 12630\n",
      "Image data shape = (32, 32, 3)\n",
      "Number of classes = 43\n"
     ]
    }
   ],
   "source": [
    "### Replace each question mark with the appropriate value. \n",
    "### Use python, pandas or numpy methods rather than hard coding the results\n",
    "import numpy as np\n",
    "\n",
    "# Number of training examples\n",
    "n_train = y_train.shape[0]\n",
    "y_shape = y_train.shape\n",
    "\n",
    "# Number of testing examples.\n",
    "n_test = y_test.shape[0]\n",
    "\n",
    "# What's the shape of an traffic sign image?\n",
    "image_shape = X_train[0].shape\n",
    "\n",
    "# How many unique classes/labels there are in the dataset.\n",
    "# https://docs.scipy.org/doc/numpy-1.10.1/reference/generated/numpy.unique.html\n",
    "sign_classes, class_indices, class_counts = np.unique(y_train, return_index = True, return_counts = True)\n",
    "n_classes = class_counts.shape[0]\n",
    "\n",
    "y_shape_end = y_train.shape\n",
    "\n",
    "# Print the Image properties\n",
    "print(\"Number of training examples =\", n_train)\n",
    "print(\"Number of testing examples =\", n_test)\n",
    "print(\"Image data shape =\", image_shape)\n",
    "print(\"Number of classes =\", n_classes)"
   ]
  },
  {
   "cell_type": "markdown",
   "metadata": {},
   "source": [
    "### Include an exploratory visualization of the dataset"
   ]
  },
  {
   "cell_type": "markdown",
   "metadata": {},
   "source": [
    "Visualize the German Traffic Signs Dataset using the pickled file(s). This is open ended, suggestions include: plotting traffic sign images, plotting the count of each sign, etc.\n",
    "\n",
    "The [Matplotlib](http://matplotlib.org/) [examples](http://matplotlib.org/examples/index.html) and [gallery](http://matplotlib.org/gallery.html) pages are a great resource for doing visualizations in Python.\n",
    "\n",
    "**NOTE:** It's recommended you start with something simple first. If you wish to do more, come back to it after you've completed the rest of the sections."
   ]
  },
  {
   "cell_type": "code",
   "execution_count": 7,
   "metadata": {
    "collapsed": false
   },
   "outputs": [
    {
     "data": {
      "image/png": "[encoded data removed]",
      "text/plain": [
       "<matplotlib.figure.Figure at 0x7f37d0137860>"
      ]
     },
     "metadata": {},
     "output_type": "display_data"
    },
    {
     "data": {
      "image/png": "[encoded data removed]",
      "text/plain": [
       "<matplotlib.figure.Figure at 0x7f37cd2b1ba8>"
      ]
     },
     "metadata": {},
     "output_type": "display_data"
    },
    {
     "data": {
      "image/png": "[encoded data removed]",
      "text/plain": [
       "<matplotlib.figure.Figure at 0x7f37cd24be10>"
      ]
     },
     "metadata": {},
     "output_type": "display_data"
    },
    {
     "data": {
      "image/png": "[encoded data removed]",
      "text/plain": [
       "<matplotlib.figure.Figure at 0x7f37cd1dc128>"
      ]
     },
     "metadata": {},
     "output_type": "display_data"
    },
    {
     "data": {
      "image/png": "[encoded data removed]",
      "text/plain": [
       "<matplotlib.figure.Figure at 0x7f37cd1ede80>"
      ]
     },
     "metadata": {},
     "output_type": "display_data"
    },
    {
     "data": {
      "image/png": "[encoded data removed]",
      "text/plain": [
       "<matplotlib.figure.Figure at 0x7f37cd0f80f0>"
      ]
     },
     "metadata": {},
     "output_type": "display_data"
    },
    {
     "data": {
      "image/png": "[encoded data removed]",
      "text/plain": [
       "<matplotlib.figure.Figure at 0x7f37cd1089e8>"
      ]
     },
     "metadata": {},
     "output_type": "display_data"
    },
    {
     "data": {
      "image/png": "[encoded data removed]",
      "text/plain": [
       "<matplotlib.figure.Figure at 0x7f37cd08db38>"
      ]
     },
     "metadata": {},
     "output_type": "display_data"
    },
    {
     "data": {
      "image/png": "[encoded data removed]",
      "text/plain": [
       "<matplotlib.figure.Figure at 0x7f37cd061cc0>"
      ]
     },
     "metadata": {},
     "output_type": "display_data"
    },
    {
     "data": {
      "image/png": "[encoded data removed]",
      "text/plain": [
       "<matplotlib.figure.Figure at 0x7f37cd02bb00>"
      ]
     },
     "metadata": {},
     "output_type": "display_data"
    }
   ],
   "source": [
    "### Data exploration visualization code goes here.\n",
    "import matplotlib.pyplot as plt\n",
    "import random\n",
    "import numpy as np\n",
    "\n",
    "get_ipython().magic('matplotlib inline')\n",
    "\n",
    "\n",
    "#show up an random image out of the X_train data set\n",
    "for i in range(10):\n",
    "    index = random.randint(0, len(X_train))\n",
    "    image = X_train[index].squeeze()\n",
    "    fig = plt.figure(figsize=(3,10))\n",
    "    axis = fig.add_subplot(10, 1, i + 1, xticks=[], yticks=[],title=y_train[index])\n",
    "    plt.imshow(image) #plot an image with three channels which means colored\n",
    "\n"
   ]
  },
  {
   "cell_type": "code",
   "execution_count": 8,
   "metadata": {
    "collapsed": false
   },
   "outputs": [
    {
     "data": {
      "text/plain": [
       "(array([  180.,  1980.,  2010.,  1260.,  1770.,  1650.,   360.,  1290.,\n",
       "         1260.,  1320.,  1800.,  1170.,  1890.,  1920.,   690.,   540.,\n",
       "          360.,   990.,  1080.,   180.,   300.,   270.,   330.,   450.,\n",
       "          240.,  1350.,   540.,   210.,   480.,   240.,   390.,   690.,\n",
       "          210.,   599.,   360.,  1080.,   330.,   180.,  1860.,   270.,\n",
       "          300.,   210.,   210.]),\n",
       " array([  0.        ,   0.97674419,   1.95348837,   2.93023256,\n",
       "          3.90697674,   4.88372093,   5.86046512,   6.8372093 ,\n",
       "          7.81395349,   8.79069767,   9.76744186,  10.74418605,\n",
       "         11.72093023,  12.69767442,  13.6744186 ,  14.65116279,\n",
       "         15.62790698,  16.60465116,  17.58139535,  18.55813953,\n",
       "         19.53488372,  20.51162791,  21.48837209,  22.46511628,\n",
       "         23.44186047,  24.41860465,  25.39534884,  26.37209302,\n",
       "         27.34883721,  28.3255814 ,  29.30232558,  30.27906977,\n",
       "         31.25581395,  32.23255814,  33.20930233,  34.18604651,\n",
       "         35.1627907 ,  36.13953488,  37.11627907,  38.09302326,\n",
       "         39.06976744,  40.04651163,  41.02325581,  42.        ]),\n",
       " <a list of 43 Patch objects>)"
      ]
     },
     "execution_count": 8,
     "metadata": {},
     "output_type": "execute_result"
    },
    {
     "data": {
      "image/png": "[encoded data removed]",
      "text/plain": [
       "<matplotlib.figure.Figure at 0x7f37d0137cf8>"
      ]
     },
     "metadata": {},
     "output_type": "display_data"
    }
   ],
   "source": [
    "# Analysis of how the several classes are balanced before argmented \n",
    "plt.hist(y_train, bins=43)"
   ]
  },
  {
   "cell_type": "markdown",
   "metadata": {},
   "source": [
    "----\n",
    "\n",
    "## Step 2: Design and Test a Model Architecture\n",
    "\n",
    "Design and implement a deep learning model that learns to recognize traffic signs. Train and test your model on the [German Traffic Sign Dataset](http://benchmark.ini.rub.de/?section=gtsrb&subsection=dataset).\n",
    "\n",
    "The LeNet-5 implementation shown in the [classroom](https://classroom.udacity.com/nanodegrees/nd013/parts/fbf77062-5703-404e-b60c-95b78b2f3f9e/modules/6df7ae49-c61c-4bb2-a23e-6527e69209ec/lessons/601ae704-1035-4287-8b11-e2c2716217ad/concepts/d4aca031-508f-4e0b-b493-e7b706120f81) at the end of the CNN lesson is a solid starting point. You'll have to change the number of classes and possibly the preprocessing, but aside from that it's plug and play! \n",
    "\n",
    "With the LeNet-5 solution from the lecture, you should expect a validation set accuracy of about 0.89. To meet specifications, the validation set accuracy will need to be at least 0.93. It is possible to get an even higher accuracy, but 0.93 is the minimum for a successful project submission. \n",
    "\n",
    "There are various aspects to consider when thinking about this problem:\n",
    "\n",
    "- Neural network architecture (is the network over or underfitting?)\n",
    "- Play around preprocessing techniques (normalization, rgb to grayscale, etc)\n",
    "- Number of examples per label (some have more than others).\n",
    "- Generate fake data.\n",
    "\n",
    "Here is an example of a [published baseline model on this problem](http://yann.lecun.com/exdb/publis/pdf/sermanet-ijcnn-11.pdf). It's not required to be familiar with the approach used in the paper but, it's good practice to try to read papers like these."
   ]
  },
  {
   "cell_type": "markdown",
   "metadata": {},
   "source": [
    "### Pre-process the Data Set (normalization, grayscale, etc.)"
   ]
  },
  {
   "cell_type": "markdown",
   "metadata": {},
   "source": [
    "Use the code cell (or multiple code cells, if necessary) to implement the first step of your project."
   ]
  },
  {
   "cell_type": "code",
   "execution_count": 9,
   "metadata": {
    "collapsed": true
   },
   "outputs": [],
   "source": [
    "import sys\n",
    "# Print iterations progress\n",
    "def print_progress(iteration, total):\n",
    "    \"\"\"\n",
    "    Call in a loop to create terminal progress bar\n",
    "    \n",
    "    Parameters\n",
    "    ----------\n",
    "        \n",
    "    iteration : \n",
    "                Current iteration (Int)\n",
    "    total     : \n",
    "                Total iterations (Int)\n",
    "    \"\"\"\n",
    "    str_format = \"{0:.0f}\"\n",
    "    percents = str_format.format(100 * (iteration / float(total)))\n",
    "    filled_length = int(round(100 * iteration / float(total)))\n",
    "    bar = '█' * filled_length + '-' * (100 - filled_length)\n",
    "\n",
    "    sys.stdout.write('\\r |%s| %s%%' % (bar, percents)),\n",
    "\n",
    "    if iteration == total:\n",
    "        sys.stdout.write('\\n')\n",
    "    sys.stdout.flush()"
   ]
  },
  {
   "cell_type": "code",
   "execution_count": 10,
   "metadata": {
    "collapsed": false
   },
   "outputs": [
    {
     "name": "stderr",
     "output_type": "stream",
     "text": [
      "/home/carnd/anaconda3/envs/carnd-term1/lib/python3.5/site-packages/theano/tensor/signal/downsample.py:6: UserWarning: downsample module has been moved to the theano.tensor.signal.pool module.\n",
      "  \"downsample module has been moved to the theano.tensor.signal.pool module.\")\n",
      "/home/carnd/anaconda3/envs/carnd-term1/lib/python3.5/site-packages/sklearn/cross_validation.py:44: DeprecationWarning: This module was deprecated in version 0.18 in favor of the model_selection module into which all the refactored classes and functions are moved. Also note that the interface of the new CV iterators are different from that of this module. This module will be removed in 0.20.\n",
      "  \"This module will be removed in 0.20.\", DeprecationWarning)\n"
     ]
    }
   ],
   "source": [
    "from nolearn.lasagne import BatchIterator\n",
    "from skimage.transform import rotate\n",
    "from skimage.transform import warp\n",
    "from skimage.transform import ProjectiveTransform\n",
    "import random\n",
    "\n",
    "class AugmentedSignsBatchIterator(BatchIterator):\n",
    "    \"\"\"\n",
    "    Iterates over dataset in batches. \n",
    "    Allows images augmentation by randomly rotating, applying projection, \n",
    "    adjusting gamma, blurring, adding noize and flipping horizontally.\n",
    "    \"\"\"\n",
    "        \n",
    "    def __init__(self, batch_size, shuffle = False, seed = 42, p = 0.5, intensity = 0.5):\n",
    "        \"\"\"\n",
    "        Initialises an instance with usual iterating settings, as well as data augmentation coverage\n",
    "        and augmentation intensity.\n",
    "        \n",
    "        Parameters\n",
    "        ----------\n",
    "        batch_size:\n",
    "                    Size of the iteration batch.\n",
    "        shuffle   :\n",
    "                    Flag indicating if we need to shuffle the data.\n",
    "        seed      :\n",
    "                    Random seed.\n",
    "        p         :\n",
    "                    Probability of augmenting a single example, should be in a range of [0, 1] .\n",
    "                    Defines data augmentation coverage.\n",
    "        intensity :\n",
    "                    Augmentation intensity, should be in a [0, 1] range.\n",
    "        \n",
    "        Returns\n",
    "        -------\n",
    "        New batch iterator instance.\n",
    "        \"\"\"\n",
    "        super(AugmentedSignsBatchIterator, self).__init__(batch_size, shuffle, seed)\n",
    "        self.p = p\n",
    "        self.intensity = intensity\n",
    "\n",
    "    def transform(self, Xb, yb):\n",
    "        \"\"\"\n",
    "        Applies a pipeline of randomised transformations for data augmentation.\n",
    "        \"\"\"\n",
    "        Xb, yb = super(AugmentedSignsBatchIterator, self).transform(\n",
    "            Xb if yb is None else Xb.copy(), \n",
    "            yb\n",
    "        )\n",
    "        \n",
    "        if yb is not None:\n",
    "            batch_size = Xb.shape[0]\n",
    "            image_size = Xb.shape[1]\n",
    "            \n",
    "            Xb = self.rotate(Xb, batch_size)\n",
    "            Xb = self.apply_projection_transform(Xb, batch_size, image_size)\n",
    "\n",
    "        return Xb, yb\n",
    "        \n",
    "    def rotate(self, Xb, batch_size):\n",
    "        \"\"\"\n",
    "        Applies random rotation in a defined degrees range to a random subset of images. \n",
    "        Range itself is subject to scaling depending on augmentation intensity.\n",
    "        \"\"\"\n",
    "        for i in np.random.choice(batch_size, int(batch_size * self.p), replace = False):\n",
    "            delta = 30. * self.intensity # scale by self.intensity\n",
    "            Xb[i] = rotate(Xb[i], random.uniform(-delta, delta), mode = 'edge')\n",
    "        return Xb   \n",
    "    \n",
    "    def apply_projection_transform(self, Xb, batch_size, image_size):\n",
    "        \"\"\"\n",
    "        Applies projection transform to a random subset of images. Projection margins are randomised in a range\n",
    "        depending on the size of the image. Range itself is subject to scaling depending on augmentation intensity.\n",
    "        \"\"\"\n",
    "        d = image_size * 0.3 * self.intensity\n",
    "        for i in np.random.choice(batch_size, int(batch_size * self.p), replace = False):        \n",
    "            tl_top = random.uniform(-d, d)     # Top left corner, top margin\n",
    "            tl_left = random.uniform(-d, d)    # Top left corner, left margin\n",
    "            bl_bottom = random.uniform(-d, d)  # Bottom left corner, bottom margin\n",
    "            bl_left = random.uniform(-d, d)    # Bottom left corner, left margin\n",
    "            tr_top = random.uniform(-d, d)     # Top right corner, top margin\n",
    "            tr_right = random.uniform(-d, d)   # Top right corner, right margin\n",
    "            br_bottom = random.uniform(-d, d)  # Bottom right corner, bottom margin\n",
    "            br_right = random.uniform(-d, d)   # Bottom right corner, right margin\n",
    "\n",
    "            transform = ProjectiveTransform()\n",
    "            transform.estimate(np.array((\n",
    "                    (tl_left, tl_top),\n",
    "                    (bl_left, image_size - bl_bottom),\n",
    "                    (image_size - br_right, image_size - br_bottom),\n",
    "                    (image_size - tr_right, tr_top)\n",
    "                )), np.array((\n",
    "                    (0, 0),\n",
    "                    (0, image_size),\n",
    "                    (image_size, image_size),\n",
    "                    (image_size, 0)\n",
    "                )))\n",
    "            Xb[i] = warp(Xb[i], transform, output_shape=(image_size, image_size), order = 1, mode = 'edge')\n",
    "\n",
    "        return Xb"
   ]
  },
  {
   "cell_type": "code",
   "execution_count": 19,
   "metadata": {
    "collapsed": false
   },
   "outputs": [],
   "source": [
    "### Preprocess the data.\n",
    "# First step is to grayscale the images.\n",
    "# Second step is to  normalize the images.\n",
    "import random\n",
    "from sklearn.utils import shuffle\n",
    "import cv2 as cv\n",
    "import time\n",
    "\n",
    "\n",
    "def pre_precess_gray_normalize(X, y=None):\n",
    "\n",
    "    index = random.randint(0, len(X)) # choose a random index out of the length of the input data array for example plotting\n",
    "    print(\"Preprocess of data which counts {} examples :\".format(X.shape[0])) #print the number of input images\n",
    "    print(\" Shape of input data array at start {}:\".format(X[index].shape))   \n",
    "    print('=======================PLOT RANDOM INPUT IMAGE=============================================')\n",
    "    \n",
    "    print(\" Shape after randomising {}:\".format(X[index].shape))   \n",
    "    plt.figure(figsize=(1,1))\n",
    "    #print(\" Shape after figsize {}:\".format(X[index].shape))   \n",
    "    plt.imshow(X[index], label='before grayscaling')   #plot images in three channel mode like expected by useing input data\n",
    "    #print(\" Shape after imshow {}:\".format(X[index].shape))\n",
    "    \n",
    "    #make all images grayscale\n",
    "    gray_images = np.zeros(shape=(len(X),32,32)) # Array fpr storing the converted images\n",
    "    t0 = time.time()\n",
    "    print('=======================CALCULATE GRAYSCALED IMAGES=========================================')    \n",
    "    for i in range(0,len(X)):\n",
    "    #Standart values often used Gray = 0.299×Red + 0.587×Green + 0.114×Blue\n",
    "    #better approximation often used Gray = 0.2126×Red + 0.7152×Green + 0.0722×Blue\n",
    "    #Convert to grayscale, e.g. single channel Y\n",
    "    #X = 0.2126 * X[:, :, :, 0] + 0.7152 * X[:, :, :, 1] + 0.0722 * X[:, :, :, 2]\n",
    "    \n",
    "        # Method for grayscaling with openCV2\n",
    "        X[i] = cv.cvtColor(X[index],cv.COLOR_RGB2BGR)\n",
    "        \n",
    "        gray_images[i] = cv.cvtColor(X[i],cv.COLOR_BGR2GRAY)\n",
    "    \n",
    "    print(\" Shape after BGR to gray {}:\".format(gray_images[index].shape))\n",
    "    \n",
    "    #convert to grayscale 1\n",
    "    print('time for vonvert to gray')\n",
    "    t1 = time.time()\n",
    "    print (t1-t0)\n",
    "\n",
    "    # Example plot after\n",
    "    plt.figure(figsize=(1,1))\n",
    "    plt.imshow(gray_images[index], cmap=\"gray\")\n",
    "    plt.title('Shape BGR to gray')\n",
    "    \n",
    "    # Calculate normalization\n",
    "    print('=======================CALCULATE NORMAILZED GRAYSCALED IMAGES=============================')\n",
    "    # scale all features into the range between 0,1\n",
    "    t2 = time.time()\n",
    "    #gray_images = (gray_images / 255.-0.5).astype(np.float32)\n",
    "    gray_images = (gray_images / 255.-0.5)\n",
    "    print(\" Shape after normalization of grayScaled images {}:\".format(gray_images[0].shape))\n",
    "    #convert to grayscale 1\n",
    "    print('time for normalization')\n",
    "    print (t2-t1)\n",
    "    \n",
    "    gray_images = gray_images.reshape((len(X),32,32,1)) #shape (32,32,1) #reshape for return value and further operations\n",
    "    print(\" plot after X.reshape((len(X),32,32,1))  {}:\".format(X[index].shape))  \n",
    "    \n",
    "    \n",
    "    return gray_images, y\n",
    "\n"
   ]
  },
  {
   "cell_type": "code",
   "execution_count": 25,
   "metadata": {
    "collapsed": false
   },
   "outputs": [],
   "source": [
    "from sklearn.utils import shuffle\n",
    "from skimage import exposure\n",
    "import warnings\n",
    "from matplotlib import pyplot\n",
    "import random\n",
    "import cv2\n",
    "\n",
    "\n",
    "def pre_process_equalHist(X, y = None):\n",
    "    '''\n",
    "    Performs Contrast Limited Adaptive Histogram Equalization (CLAHE).\n",
    "        \n",
    "    in[X]                : ndarray containing feature examples. --> Fromated in In grayscaled single channel [32,32]\n",
    "    in[y]                : ndarray, optional, defaults to `None` Dataset labels in index form.\n",
    "    Returns a tuple of X and y.    \n",
    "    '''\n",
    "    index = random.randint(0, len(X))\n",
    "    #image=X[index]\n",
    "    #image = X[index].squeeze()  \n",
    "\n",
    "    # choose a random index out of the length of the input data array\n",
    "    print(\"Preprocess of data which counts {} examples :\".format(X.shape[0])) #print the number of input images\n",
    "    print(\" Shape of input data array at start {}:\".format(X[index].shape))\n",
    "    print(index)\n",
    "    print('=======================PLOT RANDOM INPUT IMAGE=============================================')\n",
    "    # out for orientation on which step we ware in function\n",
    "    #plt.figure(figsize=(1,1)) \n",
    "    #plt.imshow(image, cmap=\"gray\") #plot images in three channel mode like expected by useing input data\n",
    "    \n",
    "    print('=======================CALCULATE EQUALIZATION ADAPHIST IMAGES===============================')    \n",
    "    # Contrast Limited Adaptive Histogram Equalization (CLAHE).\n",
    "    # An algorithm for local contrast enhancement, that uses histograms computed over different\n",
    "    # tile regions of the image. Local details can therefore be enhanced even in regions that are\n",
    "    # darker or lighter than most of the image.\n",
    "    # source: http://scikit-image.org/docs/dev/api/skimage.exposure.html#skimage.exposure.equalize_adapthist\n",
    "    \n",
    "    #equalized_images = np.zeros(shape=(len(X),32,32)) # Array fpr storing the converted images\n",
    "\n",
    "    for i in range(0,len(X)):\n",
    "        with warnings.catch_warnings():\n",
    "            warnings.simplefilter(\"ignore\")\n",
    "            \n",
    "        #for more explanation about the exposure fucntion look at the libary link above \n",
    "        #test ouput to evaluate the exposure methods against each other\n",
    "                \n",
    "        #equalized_images[i] = exposure.equalize_adapthist(X[i],None) # did not turn out the expected results\n",
    "            X[i] = exposure.equalize_hist(X[i])\n",
    "\n",
    "        # another possible solution for converting th eimages\n",
    "        #equ = cv2.equalizeHist(images)\n",
    "        #clahe = cv2.createCLAHE(clipLimit=2.0, tileGridSize=(8,8))\n",
    "        #X[i] = clahe.apply(X[i])\n",
    "        #X[i, :, :, 1] = clahe.apply(X[i,:,:,1]) # maybe the solution for the problem because CLAHE expects a (32,32) size not 32,32,1s\n",
    "\n",
    "                    \n",
    "        print_progress(i + 1, X.shape[0]) # show up a progress bar for the user to get a feeling how much time is needed\n",
    "        \n",
    "    print(\" Shape after qualization of input data {}:\".format(X[index].shape))    \n",
    "    print('=======================CALCULATE EQUALIZATION ADAPHIST IMAGES===============================')    \n",
    "    \n",
    "    #plt.figure(figsize=(1,1))\n",
    "    #plt.imshow(X[index], cmap=\"gray\")\n",
    "        \n",
    "    # Add a single grayscale channel\n",
    "    # X = X.reshape(X.shape + (1,))\n",
    "    \n",
    "    \n",
    "    return X, y"
   ]
  },
  {
   "cell_type": "code",
   "execution_count": 17,
   "metadata": {
    "collapsed": true
   },
   "outputs": [],
   "source": [
    "def flip_extend(X, y):\n",
    "    \"\"\"\n",
    "    Extends existing images dataset by flipping images of some classes. As some images would still belong\n",
    "    to same class after flipping we extend such classes with flipped images. Images of other would toggle \n",
    "    between two classes when flipped, so for those we extend existing datasets as well.\n",
    "    \n",
    "    Parameters\n",
    "    ----------\n",
    "    X       : ndarray\n",
    "              Dataset array containing feature examples.\n",
    "    y       : ndarray, optional, defaults to `None`\n",
    "              Dataset labels in index form.\n",
    "\n",
    "    Returns\n",
    "    -------\n",
    "    A tuple of X and y.    \n",
    "    \"\"\"\n",
    "    # Classes of signs that, when flipped horizontally, should still be classified as the same class\n",
    "    self_flippable_horizontally = np.array([11, 12, 13, 15, 17, 18, 22, 26, 30, 35])\n",
    "    # Classes of signs that, when flipped vertically, should still be classified as the same class\n",
    "    self_flippable_vertically = np.array([1, 5, 12, 15, 17])\n",
    "    # Classes of signs that, when flipped horizontally and then vertically, should still be classified as the same class\n",
    "    self_flippable_both = np.array([32, 40])\n",
    "    # Classes of signs that, when flipped horizontally, would still be meaningful, but should be classified as some other class\n",
    "    cross_flippable = np.array([\n",
    "        [19, 20], \n",
    "        [33, 34], \n",
    "        [36, 37], \n",
    "        [38, 39],\n",
    "        [20, 19], \n",
    "        [34, 33], \n",
    "        [37, 36], \n",
    "        [39, 38],   \n",
    "    ])\n",
    "    num_classes = 43\n",
    "    \n",
    "    X_extended = np.empty([0, X.shape[1], X.shape[2], X.shape[3]], dtype = X.dtype)\n",
    "    y_extended = np.empty([0], dtype = y.dtype)\n",
    "    \n",
    "    for c in range(num_classes):\n",
    "        # First copy existing data for this class\n",
    "        X_extended = np.append(X_extended, X[y == c], axis = 0)\n",
    "        # If we can flip images of this class horizontally and they would still belong to said class...\n",
    "        if c in self_flippable_horizontally:\n",
    "            # ...Copy their flipped versions into extended array.\n",
    "            X_extended = np.append(X_extended, X[y == c][:, :, ::-1, :], axis = 0)\n",
    "        # If we can flip images of this class horizontally and they would belong to other class...\n",
    "        if c in cross_flippable[:, 0]:\n",
    "            # ...Copy flipped images of that other class to the extended array.\n",
    "            flip_class = cross_flippable[cross_flippable[:, 0] == c][0][1]\n",
    "            X_extended = np.append(X_extended, X[y == flip_class][:, :, ::-1, :], axis = 0)\n",
    "        # Fill labels for added images set to current class.\n",
    "        y_extended = np.append(y_extended, np.full((X_extended.shape[0] - y_extended.shape[0]), c, dtype = int))\n",
    "        \n",
    "        # If we can flip images of this class vertically and they would still belong to said class...\n",
    "        if c in self_flippable_vertically:\n",
    "            # ...Copy their flipped versions into extended array.\n",
    "            X_extended = np.append(X_extended, X_extended[y_extended == c][:, ::-1, :, :], axis = 0)\n",
    "        # Fill labels for added images set to current class.\n",
    "        y_extended = np.append(y_extended, np.full((X_extended.shape[0] - y_extended.shape[0]), c, dtype = int))\n",
    "        \n",
    "        # If we can flip images of this class horizontally AND vertically and they would still belong to said class...\n",
    "        if c in self_flippable_both:\n",
    "            # ...Copy their flipped versions into extended array.\n",
    "            X_extended = np.append(X_extended, X_extended[y_extended == c][:, ::-1, ::-1, :], axis = 0)\n",
    "        # Fill labels for added images set to current class.\n",
    "        y_extended = np.append(y_extended, np.full((X_extended.shape[0] - y_extended.shape[0]), c, dtype = int))\n",
    "    \n",
    "    return (X_extended, y_extended)\n",
    "\n",
    "def extend_balancing_classes(X, y, aug_intensity = 0.5, counts = None):\n",
    "    \"\"\"\n",
    "    Extends dataset by duplicating existing images while applying data augmentation pipeline.\n",
    "    Number of generated examples for each class may be provided in `counts`.\n",
    "    \n",
    "    Parameters\n",
    "    ----------\n",
    "    X             : ndarray\n",
    "                    Dataset array containing feature examples.\n",
    "    y             : ndarray, optional, defaults to `None`\n",
    "                    Dataset labels in index form.\n",
    "    aug_intensity :\n",
    "                    Intensity of augmentation, must be in [0, 1] range.\n",
    "    counts        :\n",
    "                    Number of elements for each class.\n",
    "                    \n",
    "    Returns\n",
    "    -------\n",
    "    A tuple of X and y.    \n",
    "    \"\"\"\n",
    "    num_classes = 43\n",
    "\n",
    "    _, class_counts = np.unique(y, return_counts = True)\n",
    "    max_c = max(class_counts)\n",
    "    total = max_c * num_classes if counts is None else np.sum(counts)\n",
    "    \n",
    "    X_extended = np.empty([0, X.shape[1], X.shape[2], X.shape[3]], dtype = np.float32)\n",
    "    y_extended = np.empty([0], dtype = y.dtype)\n",
    "    print(\"Extending dataset using augmented data (intensity = {}):\".format(aug_intensity))\n",
    "    \n",
    "    for c, c_count in zip(range(num_classes), class_counts):\n",
    "        # How many examples should there be eventually for this class:\n",
    "        max_c = max_c if counts is None else counts[c]\n",
    "        # First copy existing data for this class\n",
    "        X_source = (X[y == c] / 255.).astype(np.float32)\n",
    "        y_source = y[y == c]\n",
    "        X_extended = np.append(X_extended, X_source, axis = 0)\n",
    "        for i in range((max_c // c_count) - 1):\n",
    "            batch_iterator = AugmentedSignsBatchIterator(batch_size = X_source.shape[0], p = 1.0, intensity = aug_intensity)\n",
    "            for x_batch, _ in batch_iterator(X_source, y_source):\n",
    "                X_extended = np.append(X_extended, x_batch, axis = 0)\n",
    "                print_progress(X_extended.shape[0], total)\n",
    "        batch_iterator = AugmentedSignsBatchIterator(batch_size = max_c % c_count, p = 1.0, intensity = aug_intensity)\n",
    "        for x_batch, _ in batch_iterator(X_source, y_source):\n",
    "            X_extended = np.append(X_extended, x_batch, axis = 0)\n",
    "            print_progress(X_extended.shape[0], total)\n",
    "            break\n",
    "        # Fill labels for added images set to current class.\n",
    "        added = X_extended.shape[0] - y_extended.shape[0]\n",
    "        y_extended = np.append(y_extended, np.full((added), c, dtype = int))\n",
    "        \n",
    "    return ((X_extended * 255.).astype(np.uint8), y_extended)"
   ]
  },
  {
   "cell_type": "code",
   "execution_count": 24,
   "metadata": {
    "collapsed": false
   },
   "outputs": [
    {
     "name": "stdout",
     "output_type": "stream",
     "text": [
      "Number of training examples in initial dataset = 34799\n",
      "Number of training examples after horizontal flipping = 59788\n",
      "Extending dataset using augmented data (intensity = 0.75):\n",
      " |██████████████████████████████████████████████████████████████████████████████████████████████████████████████████████████████| 126%Number of training examples after augmenting and balancing training data = 119560\n",
      "=======================GRAYSCALE &&& NORMALIZE TRAINING SET===============================\n",
      "Preprocess of data which counts 119560 examples :\n",
      " Shape of input data array at start (32, 32, 3):\n",
      "=======================PLOT RANDOM INPUT IMAGE=============================================\n",
      " Shape after randomising (32, 32, 3):\n",
      "=======================CALCULATE GRAYSCALED IMAGES=========================================\n",
      " Shape after BGR to gray (32, 32):\n",
      "time for vonvert to gray\n",
      "1.9547514915466309\n",
      "=======================CALCULATE NORMAILZED GRAYSCALED IMAGES=============================\n",
      " Shape after normalization of grayScaled images (32, 32):\n",
      "time for normalization\n",
      "0.07119202613830566\n",
      " plot after X.reshape((len(X),32,32,1))  (32, 32, 3):\n",
      "=======================EQUALIZATION OF TRAINING SET===================================\n",
      "Preprocess of data which counts 119560 examples :\n",
      " Shape of input data array at start (32, 32, 1):\n",
      "110548\n",
      "=======================PLOT RANDOM INPUT IMAGE=============================================\n",
      "=======================CALCULATE EQUALIZATION ADAPHIST IMAGES===============================\n",
      " |████████████████████████████████████████████████████████████████████████████████████████████████████| 100%\n",
      " Shape after qualization of input data (32, 32, 1):\n",
      "=======================CALCULATE EQUALIZATION ADAPHIST IMAGES===============================\n",
      "=======================GRAYSCALE &&& NORMALIZE TEST SET===================================\n",
      "Preprocess of data which counts 12630 examples :\n",
      " Shape of input data array at start (32, 32, 3):\n",
      "=======================PLOT RANDOM INPUT IMAGE=============================================\n",
      " Shape after randomising (32, 32, 3):\n",
      "=======================CALCULATE GRAYSCALED IMAGES=========================================\n",
      " Shape after BGR to gray (32, 32):\n",
      "time for vonvert to gray\n",
      "0.23627448081970215\n",
      "=======================CALCULATE NORMAILZED GRAYSCALED IMAGES=============================\n",
      " Shape after normalization of grayScaled images (32, 32):\n",
      "time for normalization\n",
      "0.06382083892822266\n",
      " plot after X.reshape((len(X),32,32,1))  (32, 32, 3):\n",
      "=======================EQUALIZATION OF TEST SET===================================\n",
      "Preprocess of data which counts 12630 examples :\n",
      " Shape of input data array at start (32, 32, 1):\n",
      "1750\n",
      "=======================PLOT RANDOM INPUT IMAGE=============================================\n",
      "=======================CALCULATE EQUALIZATION ADAPHIST IMAGES===============================\n",
      " |████████████████████████████████████████████████████████████████████████████████████████████████████| 100%\n",
      " Shape after qualization of input data (32, 32, 1):\n",
      "=======================CALCULATE EQUALIZATION ADAPHIST IMAGES===============================\n"
     ]
    },
    {
     "data": {
      "image/png": "[encoded data removed]",
      "text/plain": [
       "<matplotlib.figure.Figure at 0x7f37bdf659e8>"
      ]
     },
     "metadata": {},
     "output_type": "display_data"
    },
    {
     "data": {
      "image/png": "[encoded data removed]",
      "text/plain": [
       "<matplotlib.figure.Figure at 0x7f37bdf65cc0>"
      ]
     },
     "metadata": {},
     "output_type": "display_data"
    },
    {
     "data": {
      "image/png": "[encoded data removed]",
      "text/plain": [
       "<matplotlib.figure.Figure at 0x7f37bdf37748>"
      ]
     },
     "metadata": {},
     "output_type": "display_data"
    },
    {
     "data": {
      "image/png": "[encoded data removed]",
      "text/plain": [
       "<matplotlib.figure.Figure at 0x7f37bdf37940>"
      ]
     },
     "metadata": {},
     "output_type": "display_data"
    }
   ],
   "source": [
    "import random\n",
    "import pickle\n",
    "from sklearn.model_selection import train_test_split\n",
    "\n",
    "train_data = \"train.p\"\n",
    "test_data = \"test.p\"\n",
    "\n",
    "# flip training data and prepare it to create a balanced trainind data\n",
    "X_train, y_train = load_pickled_data(train_data, ['features', 'labels'])\n",
    "print(\"Number of training examples in initial dataset =\", X_train.shape[0])\n",
    "_, class_counts = np.unique(y_train, return_counts = True)\n",
    "X_train, y_train = flip_extend(X_train, y_train)\n",
    "print(\"Number of training examples after horizontal flipping =\", X_train.shape[0])\n",
    "\n",
    "# Prepare a dataset with balanced classes\n",
    "X_train_balanced, y_train_balanced = extend_balancing_classes(X_train, y_train, aug_intensity = 0.75, counts = np.full(43, 2200, dtype = int))\n",
    "print(\"Number of training examples after augmenting and balancing training data =\", X_train_balanced.shape[0])\n",
    "\n",
    "\n",
    "# pre-process training data and save it to a explicit file for better handling\n",
    "print('=======================GRAYSCALE &&& NORMALIZE TRAINING SET===============================')    \n",
    "X_train, y_train = pre_precess_gray_normalize(X_train_balanced, y_train_balanced)\n",
    "print('=======================EQUALIZATION OF TRAINING SET===================================')    \n",
    "X_trainBalaancedPrePrecessed, y_trainBalaancedPrePrecessed = pre_process_equalHist(X_train, y_train)\n",
    "\n",
    "\n",
    "# pre-process training data and save it to a explicit file for better handling\n",
    "X_test, y_test = load_pickled_data(test_data, ['features', 'labels'])\n",
    "\n",
    "print('=======================GRAYSCALE &&& NORMALIZE TEST SET===================================')    \n",
    "X_test, y_test = pre_precess_gray_normalize(X_test, y_test)\n",
    "print('=======================EQUALIZATION OF TEST SET===================================')    \n",
    "X_test, y_test = pre_process_equalHist(X_test, y_test)\n",
    "\n",
    "#test for saving the data to the disc\n",
    "#pickle.dump({\n",
    "        #\"features\" : X_test,\n",
    "        #\"labels\" : y_test\n",
    "    #}, open(test_preprocessed_dataset_file, \"wb\" ) )\n",
    "#print(\"Preprocessed extended testing dataset saved in\", test_preprocessed_dataset_file)\n",
    "\n",
    "#Split for validation data --> 25 percent of training data\n",
    "X_trainBalaancedPrePrecessed, X_valid, y_trainBalaancedPrePrecessed, y_valid = train_test_split(X_trainBalaancedPrePrecessed, y_trainBalaancedPrePrecessed, test_size = 0.25)\n",
    "\n"
   ]
  },
  {
   "cell_type": "code",
   "execution_count": 34,
   "metadata": {
    "collapsed": false
   },
   "outputs": [
    {
     "name": "stdout",
     "output_type": "stream",
     "text": [
      " Shape after qualization of input data (32, 32, 1):\n"
     ]
    },
    {
     "ename": "TypeError",
     "evalue": "Invalid dimensions for image data",
     "output_type": "error",
     "traceback": [
      "\u001b[0;31m---------------------------------------------------------------------------\u001b[0m",
      "\u001b[0;31mTypeError\u001b[0m                                 Traceback (most recent call last)",
      "\u001b[0;32m<ipython-input-34-e0e110158ef5>\u001b[0m in \u001b[0;36m<module>\u001b[0;34m()\u001b[0m\n\u001b[1;32m      2\u001b[0m \u001b[0;34m\u001b[0m\u001b[0m\n\u001b[1;32m      3\u001b[0m \u001b[0mplt\u001b[0m\u001b[0;34m.\u001b[0m\u001b[0mfigure\u001b[0m\u001b[0;34m(\u001b[0m\u001b[0mfigsize\u001b[0m\u001b[0;34m=\u001b[0m\u001b[0;34m(\u001b[0m\u001b[0;36m1\u001b[0m\u001b[0;34m,\u001b[0m\u001b[0;36m1\u001b[0m\u001b[0;34m)\u001b[0m\u001b[0;34m)\u001b[0m\u001b[0;34m\u001b[0m\u001b[0m\n\u001b[0;32m----> 4\u001b[0;31m \u001b[0mplt\u001b[0m\u001b[0;34m.\u001b[0m\u001b[0mimshow\u001b[0m\u001b[0;34m(\u001b[0m\u001b[0mX_trainBalaancedPrePrecessed\u001b[0m\u001b[0;34m[\u001b[0m\u001b[0mindex\u001b[0m\u001b[0;34m]\u001b[0m\u001b[0;34m,\u001b[0m \u001b[0mcmap\u001b[0m\u001b[0;34m=\u001b[0m\u001b[0;34m\"gray\"\u001b[0m\u001b[0;34m)\u001b[0m\u001b[0;34m\u001b[0m\u001b[0m\n\u001b[0m",
      "\u001b[0;32m/home/carnd/anaconda3/envs/carnd-term1/lib/python3.5/site-packages/matplotlib/pyplot.py\u001b[0m in \u001b[0;36mimshow\u001b[0;34m(X, cmap, norm, aspect, interpolation, alpha, vmin, vmax, origin, extent, shape, filternorm, filterrad, imlim, resample, url, hold, data, **kwargs)\u001b[0m\n\u001b[1;32m   3156\u001b[0m                         \u001b[0mfilternorm\u001b[0m\u001b[0;34m=\u001b[0m\u001b[0mfilternorm\u001b[0m\u001b[0;34m,\u001b[0m \u001b[0mfilterrad\u001b[0m\u001b[0;34m=\u001b[0m\u001b[0mfilterrad\u001b[0m\u001b[0;34m,\u001b[0m\u001b[0;34m\u001b[0m\u001b[0m\n\u001b[1;32m   3157\u001b[0m                         \u001b[0mimlim\u001b[0m\u001b[0;34m=\u001b[0m\u001b[0mimlim\u001b[0m\u001b[0;34m,\u001b[0m \u001b[0mresample\u001b[0m\u001b[0;34m=\u001b[0m\u001b[0mresample\u001b[0m\u001b[0;34m,\u001b[0m \u001b[0murl\u001b[0m\u001b[0;34m=\u001b[0m\u001b[0murl\u001b[0m\u001b[0;34m,\u001b[0m \u001b[0mdata\u001b[0m\u001b[0;34m=\u001b[0m\u001b[0mdata\u001b[0m\u001b[0;34m,\u001b[0m\u001b[0;34m\u001b[0m\u001b[0m\n\u001b[0;32m-> 3158\u001b[0;31m                         **kwargs)\n\u001b[0m\u001b[1;32m   3159\u001b[0m     \u001b[0;32mfinally\u001b[0m\u001b[0;34m:\u001b[0m\u001b[0;34m\u001b[0m\u001b[0m\n\u001b[1;32m   3160\u001b[0m         \u001b[0max\u001b[0m\u001b[0;34m.\u001b[0m\u001b[0m_hold\u001b[0m \u001b[0;34m=\u001b[0m \u001b[0mwashold\u001b[0m\u001b[0;34m\u001b[0m\u001b[0m\n",
      "\u001b[0;32m/home/carnd/anaconda3/envs/carnd-term1/lib/python3.5/site-packages/matplotlib/__init__.py\u001b[0m in \u001b[0;36minner\u001b[0;34m(ax, *args, **kwargs)\u001b[0m\n\u001b[1;32m   1890\u001b[0m                     warnings.warn(msg % (label_namer, func.__name__),\n\u001b[1;32m   1891\u001b[0m                                   RuntimeWarning, stacklevel=2)\n\u001b[0;32m-> 1892\u001b[0;31m             \u001b[0;32mreturn\u001b[0m \u001b[0mfunc\u001b[0m\u001b[0;34m(\u001b[0m\u001b[0max\u001b[0m\u001b[0;34m,\u001b[0m \u001b[0;34m*\u001b[0m\u001b[0margs\u001b[0m\u001b[0;34m,\u001b[0m \u001b[0;34m**\u001b[0m\u001b[0mkwargs\u001b[0m\u001b[0;34m)\u001b[0m\u001b[0;34m\u001b[0m\u001b[0m\n\u001b[0m\u001b[1;32m   1893\u001b[0m         \u001b[0mpre_doc\u001b[0m \u001b[0;34m=\u001b[0m \u001b[0minner\u001b[0m\u001b[0;34m.\u001b[0m\u001b[0m__doc__\u001b[0m\u001b[0;34m\u001b[0m\u001b[0m\n\u001b[1;32m   1894\u001b[0m         \u001b[0;32mif\u001b[0m \u001b[0mpre_doc\u001b[0m \u001b[0;32mis\u001b[0m \u001b[0;32mNone\u001b[0m\u001b[0;34m:\u001b[0m\u001b[0;34m\u001b[0m\u001b[0m\n",
      "\u001b[0;32m/home/carnd/anaconda3/envs/carnd-term1/lib/python3.5/site-packages/matplotlib/axes/_axes.py\u001b[0m in \u001b[0;36mimshow\u001b[0;34m(self, X, cmap, norm, aspect, interpolation, alpha, vmin, vmax, origin, extent, shape, filternorm, filterrad, imlim, resample, url, **kwargs)\u001b[0m\n\u001b[1;32m   5116\u001b[0m                               resample=resample, **kwargs)\n\u001b[1;32m   5117\u001b[0m \u001b[0;34m\u001b[0m\u001b[0m\n\u001b[0;32m-> 5118\u001b[0;31m         \u001b[0mim\u001b[0m\u001b[0;34m.\u001b[0m\u001b[0mset_data\u001b[0m\u001b[0;34m(\u001b[0m\u001b[0mX\u001b[0m\u001b[0;34m)\u001b[0m\u001b[0;34m\u001b[0m\u001b[0m\n\u001b[0m\u001b[1;32m   5119\u001b[0m         \u001b[0mim\u001b[0m\u001b[0;34m.\u001b[0m\u001b[0mset_alpha\u001b[0m\u001b[0;34m(\u001b[0m\u001b[0malpha\u001b[0m\u001b[0;34m)\u001b[0m\u001b[0;34m\u001b[0m\u001b[0m\n\u001b[1;32m   5120\u001b[0m         \u001b[0;32mif\u001b[0m \u001b[0mim\u001b[0m\u001b[0;34m.\u001b[0m\u001b[0mget_clip_path\u001b[0m\u001b[0;34m(\u001b[0m\u001b[0;34m)\u001b[0m \u001b[0;32mis\u001b[0m \u001b[0;32mNone\u001b[0m\u001b[0;34m:\u001b[0m\u001b[0;34m\u001b[0m\u001b[0m\n",
      "\u001b[0;32m/home/carnd/anaconda3/envs/carnd-term1/lib/python3.5/site-packages/matplotlib/image.py\u001b[0m in \u001b[0;36mset_data\u001b[0;34m(self, A)\u001b[0m\n\u001b[1;32m    547\u001b[0m         if (self._A.ndim not in (2, 3) or\n\u001b[1;32m    548\u001b[0m                 (self._A.ndim == 3 and self._A.shape[-1] not in (3, 4))):\n\u001b[0;32m--> 549\u001b[0;31m             \u001b[0;32mraise\u001b[0m \u001b[0mTypeError\u001b[0m\u001b[0;34m(\u001b[0m\u001b[0;34m\"Invalid dimensions for image data\"\u001b[0m\u001b[0;34m)\u001b[0m\u001b[0;34m\u001b[0m\u001b[0m\n\u001b[0m\u001b[1;32m    550\u001b[0m \u001b[0;34m\u001b[0m\u001b[0m\n\u001b[1;32m    551\u001b[0m         \u001b[0mself\u001b[0m\u001b[0;34m.\u001b[0m\u001b[0m_imcache\u001b[0m \u001b[0;34m=\u001b[0m \u001b[0;32mNone\u001b[0m\u001b[0;34m\u001b[0m\u001b[0m\n",
      "\u001b[0;31mTypeError\u001b[0m: Invalid dimensions for image data"
     ]
    },
    {
     "data": {
      "image/png": "[encoded data removed]",
      "text/plain": [
       "<matplotlib.figure.Figure at 0x7f37cd1e2ba8>"
      ]
     },
     "metadata": {},
     "output_type": "display_data"
    }
   ],
   "source": [
    "    print(\" Shape after qualization of input data {}:\".format(X_trainBalaancedPrePrecessed[index].shape))\n",
    "    \n",
    "    plt.figure(figsize=(1,1))\n",
    "    plt.imshow(X_trainBalaancedPrePrecessed[index], cmap=\"gray\")\n"
   ]
  },
  {
   "cell_type": "code",
   "execution_count": 18,
   "metadata": {
    "collapsed": false
   },
   "outputs": [
    {
     "name": "stdout",
     "output_type": "stream",
     "text": [
      "Shape of train balanced preprocessed = (32, 32, 1)\n",
      "Shape of train balanced preprocessed = 89670\n",
      "Shape of train validation set = (32, 32, 1)\n",
      "Shape of train validation set = 29890\n",
      "Shape of train test preprocessed = (32, 32, 1)\n",
      "Shape of train test preprocessed = 12630\n"
     ]
    }
   ],
   "source": [
    "#Check the data set after preprocessing\n",
    "#X_trainBalaancedPrePrecessed = X_trainBalaancedPrePrecessed.reshape(X_trainBalaancedPrePrecessed.shape + (1,))\n",
    "#X_valid = np.reshape(X_valid.shape + (1,))\n",
    "\n",
    "print(\"Shape of train balanced preprocessed =\", X_trainBalaancedPrePrecessed[0].shape)\n",
    "print(\"Shape of train balanced preprocessed =\", X_trainBalaancedPrePrecessed.shape[0])\n",
    "print(\"Shape of train validation set =\", X_valid[0].shape)\n",
    "print(\"Shape of train validation set =\", X_valid.shape[0])\n",
    "print(\"Shape of train test preprocessed =\", X_test[0].shape)\n",
    "print(\"Shape of train test preprocessed =\", X_test.shape[0])\n"
   ]
  },
  {
   "cell_type": "code",
   "execution_count": 19,
   "metadata": {
    "collapsed": false
   },
   "outputs": [
    {
     "data": {
      "text/plain": [
       "(array([ 2200.,  6160.,  2200.,  2200.,  2200.,  5500.,  2200.,  2200.,\n",
       "         2200.,  2200.,  2200.,  4540.,  9760.,  6040.,  2200.,  2200.,\n",
       "         2200.,  6160.,  2200.,  2200.,  2200.,  2200.,  2200.,  2200.,\n",
       "         2200.,  2200.,  2200.,  2200.,  2200.,  2200.,  2200.,  2200.,\n",
       "         2200.,  2200.,  2200.,  2200.,  2200.,  2200.,  2200.,  2200.,\n",
       "         2200.,  2200.,  2200.]),\n",
       " array([  0.        ,   0.97674419,   1.95348837,   2.93023256,\n",
       "          3.90697674,   4.88372093,   5.86046512,   6.8372093 ,\n",
       "          7.81395349,   8.79069767,   9.76744186,  10.74418605,\n",
       "         11.72093023,  12.69767442,  13.6744186 ,  14.65116279,\n",
       "         15.62790698,  16.60465116,  17.58139535,  18.55813953,\n",
       "         19.53488372,  20.51162791,  21.48837209,  22.46511628,\n",
       "         23.44186047,  24.41860465,  25.39534884,  26.37209302,\n",
       "         27.34883721,  28.3255814 ,  29.30232558,  30.27906977,\n",
       "         31.25581395,  32.23255814,  33.20930233,  34.18604651,\n",
       "         35.1627907 ,  36.13953488,  37.11627907,  38.09302326,\n",
       "         39.06976744,  40.04651163,  41.02325581,  42.        ]),\n",
       " <a list of 43 Patch objects>)"
      ]
     },
     "execution_count": 19,
     "metadata": {},
     "output_type": "execute_result"
    },
    {
     "data": {
      "image/png": "[encoded data removed]",
      "text/plain": [
       "<matplotlib.figure.Figure at 0x7f9101b4eeb8>"
      ]
     },
     "metadata": {},
     "output_type": "display_data"
    }
   ],
   "source": [
    "# Analysis of how the several classes are balanced after argumented \n",
    "pyplot.hist(y_train, bins=43)"
   ]
  },
  {
   "cell_type": "markdown",
   "metadata": {},
   "source": [
    "### Model Architecture"
   ]
  },
  {
   "cell_type": "code",
   "execution_count": 35,
   "metadata": {
    "collapsed": true
   },
   "outputs": [],
   "source": [
    "\n",
    "# ## Implement LeNet-5\n",
    "# Implement the [LeNet-5](http://yann.lecun.com/exdb/lenet/) neural network architecture.\n",
    "# \n",
    "# ### Input\n",
    "# The LeNet architecture accepts a 32x32xC image as input, where C is the number of color channels. Since MNIST images are grayscale, C is 1 in this case. \n",
    "# ### Architecture\n",
    "# **Layer 1: Convolutional.** The output shape should be 28x28x6.\n",
    "# \n",
    "# **Activation.** Your choice of activation function.\n",
    "# \n",
    "# **Pooling.** The output shape should be 14x14x6.\n",
    "# \n",
    "# **Layer 2: Convolutional.** The output shape should be 10x10x16.\n",
    "# \n",
    "# **Activation.** Your choice of activation function.\n",
    "# \n",
    "# **Pooling.** The output shape should be 5x5x16.\n",
    "# \n",
    "# **Flatten.** Flatten the output shape of the final pooling layer such that it's 1D instead of 3D. The easiest way to do is by using `tf.contrib.layers.flatten`, which is already imported for you.\n",
    "# \n",
    "# **Layer 3: Fully Connected.** This should have 120 outputs.\n",
    "# \n",
    "# **Activation.** Your choice of activation function.\n",
    "# \n",
    "# **Layer 4: Fully Connected.** This should have 84 outputs.\n",
    "# \n",
    "# **Activation.** Your choice of activation function.\n",
    "# \n",
    "# **Layer 5: Fully Connected (Logits).** This should have 10 outputs.\n",
    "# \n",
    "# ### Output\n",
    "# Return the result of the 2nd fully connected layer.\n",
    "\n",
    "\n",
    "\n",
    "from tensorflow.contrib.layers import flatten\n",
    "import tensorflow as tf\n",
    "\n",
    "EPOCHS = 12\n",
    "BATCH_SIZE = 128\n",
    "#BATCH_SIZE = 256\n",
    "\n",
    "def LeNet(x):    \n",
    "    # Arguments used for tf.truncated_normal, randomly defines variables for the weights and biases for each layer\n",
    "    mu = 0\n",
    "    sigma = 0.1\n",
    "    \n",
    "    #print(\" Shape at start {}:\".format(x[0].shape))    \n",
    "\n",
    "    #Layer 1: Convolutional. Input = 32x32x1. Output = 30x30x8.\n",
    "    conv1_W = tf.Variable(tf.truncated_normal(shape=(3, 3, 1, 8), mean = mu, stddev = sigma))\n",
    "    conv1_b = tf.Variable(tf.zeros(8))\n",
    "    conv1   = tf.nn.conv2d(x, conv1_W, strides=[1, 1, 1, 1], padding='VALID') + conv1_b\n",
    "\n",
    "    #  Activation.\n",
    "    conv1 = tf.nn.relu(conv1)\n",
    "\n",
    "    #  Pooling. Input = 30x30x8. Output = 15x15x8.\n",
    "    conv1 = tf.nn.max_pool(conv1, ksize=[1, 2, 2, 1], strides=[1, 2, 2, 1], padding='VALID')\n",
    "\n",
    "    #  Layer 2: Convolutional. Input 15x15x8. Output = 13x13x16.\n",
    "    conv2_W = tf.Variable(tf.truncated_normal(shape=(3, 3, 8, 16), mean = mu, stddev = sigma))\n",
    "    conv2_b = tf.Variable(tf.zeros(16))\n",
    "    conv2   = tf.nn.conv2d(conv1, conv2_W, strides=[1, 1, 1, 1], padding='VALID') + conv2_b\n",
    "    \n",
    "    # Activation.\n",
    "    conv2 = tf.nn.relu(conv2)\n",
    "\n",
    "    # Pooling. Input = 13x13x8. Output = 7x7x8.\n",
    "    conv2 = tf.nn.max_pool(conv2, ksize=[1, 2, 2, 1], strides=[1, 2, 2, 1], padding='VALID')\n",
    "    \n",
    "    #  Layer 3: Convolutional.Input = 7x7x16. Output = 5x5x32\n",
    "    conv3_W = tf.Variable(tf.truncated_normal(shape=(3, 3, 16, 32), mean = mu, stddev = sigma))\n",
    "    conv3_b = tf.Variable(tf.zeros(32))\n",
    "    conv3   = tf.nn.conv2d(conv2, conv3_W, strides=[1, 1, 1, 1], padding='VALID') + conv3_b\n",
    "    \n",
    "    # Activation.\n",
    "    conv3 = tf.nn.relu(conv3)\n",
    "\n",
    "    # Pooling. Input = 5x5x32. Output = 2x2x32.\n",
    "    conv3 = tf.nn.max_pool(conv3, ksize=[1, 2, 2, 1], strides=[1, 2, 2, 1], padding='VALID')\n",
    "    \n",
    "    # SOLUTION: Flatten. Input = 3x3x10. Output = 288.\n",
    "    fc0   = flatten(conv3)\n",
    "    \n",
    "    #  Layer 3: Fully Connected. Input = 128. Output = 120.\n",
    "    fc1_W = tf.Variable(tf.truncated_normal(shape=(128, 120), mean = mu, stddev = sigma))\n",
    "    fc1_b = tf.Variable(tf.zeros(120))\n",
    "    fc1   = tf.matmul(fc0, fc1_W) + fc1_b\n",
    "    \n",
    "    #  Activation.\n",
    "    fc1    = tf.nn.relu(fc1)\n",
    "\n",
    "    #  Layer 4: Fully Connected. Input = 120. Output = 84.\n",
    "    fc2_W  = tf.Variable(tf.truncated_normal(shape=(120, 84), mean = mu, stddev = sigma))\n",
    "    fc2_b  = tf.Variable(tf.zeros(84))\n",
    "    fc2    = tf.matmul(fc1, fc2_W) + fc2_b\n",
    "    \n",
    "    #  Activation.\n",
    "    fc2    = tf.nn.relu(fc2)\n",
    "\n",
    "    #  Layer 5: Fully Connected. Input = 84. Output = 10.\n",
    "    fc3_W  = tf.Variable(tf.truncated_normal(shape=(84, 43), mean = mu, stddev = sigma))\n",
    "    fc3_b  = tf.Variable(tf.zeros(43))\n",
    "    logits = tf.matmul(fc2, fc3_W) + fc3_b\n",
    "    \n",
    "    return logits"
   ]
  },
  {
   "cell_type": "markdown",
   "metadata": {},
   "source": [
    "### Train, Validate and Test the Model"
   ]
  },
  {
   "cell_type": "markdown",
   "metadata": {},
   "source": [
    "A validation set can be used to assess how well the model is performing. A low accuracy on the training and validation\n",
    "sets imply underfitting. A high accuracy on the training set but low accuracy on the validation set implies overfitting."
   ]
  },
  {
   "cell_type": "code",
   "execution_count": 36,
   "metadata": {
    "collapsed": false
   },
   "outputs": [],
   "source": [
    "# ## Features and Labels\n",
    "# `x` is a placeholder for a batch of input images.\n",
    "# `y` is a placeholder for a batch of output labels.\n",
    "x = tf.placeholder(tf.float32, (None, 32, 32, 1))\n",
    "y = tf.placeholder(tf.int32, (None))\n",
    "one_hot_y = tf.one_hot(y, 43)\n",
    "\n",
    "#print(\"shape of one hot {} examples :\".format(one_hot_y[0]))\n",
    "#print(\"shape of y {} examples :\".format(y[0]))\n"
   ]
  },
  {
   "cell_type": "code",
   "execution_count": 37,
   "metadata": {
    "collapsed": false
   },
   "outputs": [],
   "source": [
    "# ## Training Pipeline\n",
    "# Create a training pipeline that uses the model to classify MNIST data.\n",
    "rate = 0.001 \n",
    "\n",
    "logits = LeNet(x)\n",
    "cross_entropy = tf.nn.softmax_cross_entropy_with_logits(logits, one_hot_y)\n",
    "loss_operation = tf.reduce_mean(cross_entropy)\n",
    "optimizer = tf.train.AdamOptimizer(learning_rate = rate)\n",
    "training_operation = optimizer.minimize(loss_operation)"
   ]
  },
  {
   "cell_type": "code",
   "execution_count": 38,
   "metadata": {
    "collapsed": false
   },
   "outputs": [],
   "source": [
    "### Calculate and report the accuracy on the training and validation set.\n",
    "# Evaluate how well the loss and accuracy of the model for a given dataset.\n",
    "\n",
    "correct_prediction = tf.equal(tf.argmax(logits, 1), tf.argmax(one_hot_y, 1))\n",
    "accuracy_operation = tf.reduce_mean(tf.cast(correct_prediction, tf.float32))\n",
    "saver = tf.train.Saver()\n",
    "\n",
    "def evaluate(X_data, y_data):\n",
    "    num_examples = len(X_data)\n",
    "    total_accuracy = 0\n",
    "    total_loss=0\n",
    "    sess = tf.get_default_session()\n",
    "    for offset in range(0, num_examples, BATCH_SIZE):\n",
    "        batch_x, batch_y = X_data[offset:offset+BATCH_SIZE], y_data[offset:offset+BATCH_SIZE]\n",
    "        #accuracy = sess.run(accuracy_operation, feed_dict={x: batch_x, y: batch_y})\n",
    "        loss, accuracy = sess.run([loss_operation, accuracy_operation], feed_dict={x: batch_x, y: batch_y})\n",
    "        total_accuracy += (accuracy * len(batch_x))\n",
    "        total_loss += (loss * len(batch_x))\n",
    "    return total_loss/num_examples, total_accuracy / num_examples\n"
   ]
  },
  {
   "cell_type": "code",
   "execution_count": 39,
   "metadata": {
    "collapsed": false
   },
   "outputs": [
    {
     "name": "stdout",
     "output_type": "stream",
     "text": [
      "Training...\n",
      "EPOCH 1 ...\n",
      "Validation Accuracy = 0.102\n",
      "Validation loss = 3.433\n",
      "training Accuracy = 0.099\n",
      "training loss = 3.431\n",
      "\n",
      "EPOCH 2 ...\n",
      "Validation Accuracy = 0.100\n",
      "Validation loss = 3.428\n",
      "training Accuracy = 0.100\n",
      "training loss = 3.427\n",
      "\n",
      "EPOCH 3 ...\n",
      "Validation Accuracy = 0.100\n",
      "Validation loss = 3.427\n",
      "training Accuracy = 0.100\n",
      "training loss = 3.427\n",
      "\n",
      "EPOCH 4 ...\n",
      "Validation Accuracy = 0.101\n",
      "Validation loss = 3.428\n",
      "training Accuracy = 0.100\n",
      "training loss = 3.428\n",
      "\n",
      "EPOCH 5 ...\n",
      "Validation Accuracy = 0.102\n",
      "Validation loss = 3.428\n",
      "training Accuracy = 0.099\n",
      "training loss = 3.427\n",
      "\n",
      "EPOCH 6 ...\n",
      "Validation Accuracy = 0.100\n",
      "Validation loss = 3.425\n",
      "training Accuracy = 0.100\n",
      "training loss = 3.425\n",
      "\n",
      "EPOCH 7 ...\n",
      "Validation Accuracy = 0.102\n",
      "Validation loss = 3.427\n",
      "training Accuracy = 0.099\n",
      "training loss = 3.426\n",
      "\n",
      "EPOCH 8 ...\n",
      "Validation Accuracy = 0.101\n",
      "Validation loss = 3.427\n",
      "training Accuracy = 0.100\n",
      "training loss = 3.427\n",
      "\n",
      "EPOCH 9 ...\n",
      "Validation Accuracy = 0.102\n",
      "Validation loss = 3.426\n",
      "training Accuracy = 0.099\n",
      "training loss = 3.425\n",
      "\n",
      "EPOCH 10 ...\n",
      "Validation Accuracy = 0.100\n",
      "Validation loss = 3.426\n",
      "training Accuracy = 0.100\n",
      "training loss = 3.425\n",
      "\n",
      "EPOCH 11 ...\n",
      "Validation Accuracy = 0.100\n",
      "Validation loss = 3.426\n",
      "training Accuracy = 0.100\n",
      "training loss = 3.425\n",
      "\n",
      "EPOCH 12 ...\n",
      "Validation Accuracy = 0.102\n",
      "Validation loss = 3.427\n",
      "training Accuracy = 0.099\n",
      "training loss = 3.426\n",
      "\n"
     ]
    },
    {
     "data": {
      "image/png": "[encoded data removed]",
      "text/plain": [
       "<matplotlib.figure.Figure at 0x7f37bde89780>"
      ]
     },
     "metadata": {},
     "output_type": "display_data"
    },
    {
     "name": "stdout",
     "output_type": "stream",
     "text": [
      "Model saved\n"
     ]
    }
   ],
   "source": [
    "# ## Train the Model\n",
    "# Run the training data through the training pipeline to train the model.\n",
    "# \n",
    "# Before each epoch, shuffle the training set.\n",
    "# \n",
    "# After each epoch, measure the loss and accuracy of the validation set.\n",
    "\n",
    "\n",
    "with tf.Session() as sess:\n",
    "    sess.run(tf.global_variables_initializer())\n",
    "    num_examples = len(X_trainBalaancedPrePrecessed)\n",
    "    \n",
    "    #define empty arraysfor later appending value'\n",
    "    training_loss_history = []\n",
    "    validation_loss_history = []\n",
    "    training_accuracy_history = []\n",
    "    validation_accuracy_history = []\n",
    "    \n",
    "    print(\"Training...\")\n",
    "    for i in range(EPOCHS):\n",
    "        X_trainBalaancedPrePrecessed, y_trainBalaancedPrePrecessed = shuffle(X_trainBalaancedPrePrecessed, y_trainBalaancedPrePrecessed)\n",
    "        for offset in range(0, num_examples, BATCH_SIZE):\n",
    "            end = offset + BATCH_SIZE\n",
    "            batch_x, batch_y = X_trainBalaancedPrePrecessed[offset:end], y_trainBalaancedPrePrecessed[offset:end]\n",
    "            sess.run(training_operation, feed_dict={x: batch_x, y: batch_y})\n",
    "            \n",
    "        validation_loss,validation_accuracy = evaluate(X_valid, y_valid)\n",
    "        validation_loss_history.append(validation_loss)\n",
    "        validation_accuracy_history.append(validation_accuracy)\n",
    "        \n",
    "        \n",
    "        training_loss, training_accuracy = evaluate(X_trainBalaancedPrePrecessed, y_trainBalaancedPrePrecessed)\n",
    "        training_loss_history.append(training_loss)\n",
    "        training_accuracy_history.append(training_accuracy)\n",
    "\n",
    "        \n",
    "        print(\"EPOCH {} ...\".format(i+1))\n",
    "        print(\"Validation Accuracy = {:.3f}\".format(validation_accuracy))\n",
    "        print(\"Validation loss = {:.3f}\".format(validation_loss))\n",
    "        print(\"training Accuracy = {:.3f}\".format(training_accuracy))\n",
    "        print(\"training loss = {:.3f}\".format(training_loss))\n",
    "        print()\n",
    "       \n",
    "    loss_plot = plt.subplot(2,1,1)\n",
    "    loss_plot.set_title('Loss')\n",
    "    loss_plot.plot(training_loss_history, 'r', label='Training Loss')\n",
    "    loss_plot.plot(validation_loss_history, 'b', label='Validation Loss')\n",
    "    loss_plot.set_xlim([0, EPOCHS])\n",
    "    loss_plot.legend(loc=4)\n",
    "    acc_plot = plt.subplot(2,1,2)\n",
    "    acc_plot.set_title('Accuracy')\n",
    "    acc_plot.plot(training_accuracy_history,'r', label='Training Accuracy')\n",
    "    acc_plot.plot(validation_accuracy_history, 'b', label='Validation Accuracy')\n",
    "    acc_plot.set_ylim([0, 1.0])\n",
    "    acc_plot.set_xlim([0, EPOCHS])\n",
    "    acc_plot.legend(loc=4)\n",
    "    plt.tight_layout()\n",
    "    plt.show()\n",
    "        \n",
    "    saver.save(sess, './lenet')\n",
    "    print(\"Model saved\")"
   ]
  },
  {
   "cell_type": "code",
   "execution_count": 43,
   "metadata": {
    "collapsed": false
   },
   "outputs": [
    {
     "name": "stdout",
     "output_type": "stream",
     "text": [
      "Test Accuracy = 0.007\n"
     ]
    }
   ],
   "source": [
    "# ## Evaluate the Model with TEST DATA\n",
    "# Once you are completely satisfied with your model, evaluate the performance of the model on the test set.\n",
    "# Be sure to only do this once!\n",
    "\n",
    "with tf.Session() as sess:\n",
    "    saver.restore(sess, tf.train.latest_checkpoint('.'))\n",
    "\n",
    "    test_loss,test_accuracy = evaluate(X_test, y_test)\n",
    "    print(\"Test Accuracy = {:.3f}\".format(test_accuracy))\n"
   ]
  },
  {
   "cell_type": "markdown",
   "metadata": {},
   "source": [
    "---\n",
    "\n",
    "## Step 3: Test a Model on New Images\n",
    "\n",
    "To give yourself more insight into how your model is working, download at least five pictures of German traffic signs from the web and use your model to predict the traffic sign type.\n",
    "\n",
    "You may find `signnames.csv` useful as it contains mappings from the class id (integer) to the actual sign name."
   ]
  },
  {
   "cell_type": "markdown",
   "metadata": {},
   "source": [
    "### Load and Output the Images"
   ]
  },
  {
   "cell_type": "code",
   "execution_count": 44,
   "metadata": {
    "collapsed": false
   },
   "outputs": [],
   "source": [
    "import matplotlib.gridspec as gridspec\n",
    "import matplotlib.image as mpimg\n",
    "from skimage import io\n",
    "import os\n",
    "import numpy as np\n",
    "import cv2"
   ]
  },
  {
   "cell_type": "code",
   "execution_count": 49,
   "metadata": {
    "collapsed": false
   },
   "outputs": [
    {
     "name": "stdout",
     "output_type": "stream",
     "text": [
      "(32, 32, 3)\n",
      "(5, 32, 32, 3)\n",
      "(32, 32, 3)\n",
      "(5, 32, 32, 3)\n",
      "(32, 32, 3)\n",
      "(5, 32, 32, 3)\n",
      "(32, 32, 3)\n",
      "(5, 32, 32, 3)\n",
      "(32, 32, 3)\n",
      "(5, 32, 32, 3)\n"
     ]
    },
    {
     "ename": "error",
     "evalue": "/home/travis/miniconda/conda-bld/work/opencv-3.1.0/modules/imgproc/src/color.cpp:7935: error: (-215) depth == CV_8U || depth == CV_16U || depth == CV_32F in function cvtColor\n",
     "output_type": "error",
     "traceback": [
      "\u001b[0;31m---------------------------------------------------------------------------\u001b[0m",
      "\u001b[0;31merror\u001b[0m                                     Traceback (most recent call last)",
      "\u001b[0;32m<ipython-input-49-5c901a3aad4b>\u001b[0m in \u001b[0;36m<module>\u001b[0;34m()\u001b[0m\n\u001b[1;32m     23\u001b[0m \u001b[0;32mfor\u001b[0m \u001b[0mi\u001b[0m \u001b[0;32min\u001b[0m \u001b[0mrange\u001b[0m\u001b[0;34m(\u001b[0m\u001b[0;36m5\u001b[0m\u001b[0;34m)\u001b[0m\u001b[0;34m:\u001b[0m\u001b[0;34m\u001b[0m\u001b[0m\n\u001b[1;32m     24\u001b[0m \u001b[0;34m\u001b[0m\u001b[0m\n\u001b[0;32m---> 25\u001b[0;31m     \u001b[0mX_newImages\u001b[0m\u001b[0;34m[\u001b[0m\u001b[0mi\u001b[0m\u001b[0;34m]\u001b[0m \u001b[0;34m=\u001b[0m \u001b[0mcv\u001b[0m\u001b[0;34m.\u001b[0m\u001b[0mcvtColor\u001b[0m\u001b[0;34m(\u001b[0m\u001b[0mX_newImages\u001b[0m\u001b[0;34m[\u001b[0m\u001b[0mi\u001b[0m\u001b[0;34m]\u001b[0m\u001b[0;34m,\u001b[0m\u001b[0mcv\u001b[0m\u001b[0;34m.\u001b[0m\u001b[0mCOLOR_BGR2GRAY\u001b[0m\u001b[0;34m)\u001b[0m\u001b[0;34m\u001b[0m\u001b[0m\n\u001b[0m\u001b[1;32m     26\u001b[0m \u001b[0;34m\u001b[0m\u001b[0m\n\u001b[1;32m     27\u001b[0m \u001b[0mX_newImages\u001b[0m\u001b[0;34m,\u001b[0m \u001b[0m_\u001b[0m \u001b[0;34m=\u001b[0m \u001b[0mpre_precess_gray_normalize\u001b[0m\u001b[0;34m(\u001b[0m\u001b[0mX_newImages\u001b[0m\u001b[0;34m)\u001b[0m\u001b[0;34m\u001b[0m\u001b[0m\n",
      "\u001b[0;31merror\u001b[0m: /home/travis/miniconda/conda-bld/work/opencv-3.1.0/modules/imgproc/src/color.cpp:7935: error: (-215) depth == CV_8U || depth == CV_16U || depth == CV_32F in function cvtColor\n"
     ]
    }
   ],
   "source": [
    "# Prepare new image data\n",
    "# Load images from .ipg files to `X_newImages` numpy array\n",
    "X_newImages = np.empty((5, 32, 32, 3))\n",
    "for i in range(5):\n",
    "    #read images of pre sized 32,32,3\n",
    "    image = mpimg.imread(os.getcwd() + '/examples/' + \"cropexample{0:0>2}\".format(i + 1) + '.jpg')\n",
    "    print(np.shape(image))\n",
    "    \n",
    "\n",
    "    X_newImages[i] = image\n",
    "    print(np.shape(X_newImages))\n",
    "\n",
    "### provide validation    \n",
    "y_newImages = np.array([\n",
    "    17, # \"example01\"\n",
    "    1, # \"example02\"\n",
    "    5, # \"example03\"\n",
    "    13, # \"example04\"\n",
    "    14, # \"example05\"    \n",
    "])\n",
    "\n",
    "# Preprocess and get predictions based on the current model\n",
    "for i in range(5):\n",
    "    \n",
    "    X_newImages[i] = cv.cvtColor(X_newImages[i],cv.COLOR_BGR2GRAY)\n",
    "\n",
    "X_newImages, _ = pre_precess_gray_normalize(X_newImages)\n",
    "X_newImages, _ = pre_process_equalHist(X_newImages)\n",
    "  "
   ]
  },
  {
   "cell_type": "markdown",
   "metadata": {},
   "source": [
    "### Predict the Sign Type for Each Image"
   ]
  },
  {
   "cell_type": "markdown",
   "metadata": {},
   "source": [
    "### Analyze Performance"
   ]
  },
  {
   "cell_type": "code",
   "execution_count": null,
   "metadata": {
    "collapsed": false
   },
   "outputs": [],
   "source": [
    "### Run the predictions here and use the model to output the prediction for each image.\n",
    "with tf.Session() as sess:\n",
    "    saver.restore(sess, tf.train.latest_checkpoint('.'))\n",
    "    softmax = tf.nn.softmax(logits)\n",
    "    result = sess.run(softmax, feed_dict={x: X_newImages})\n",
    "    values, indices = tf.nn.top_k(result, 5)\n",
    "    probs = sess.run(values)\n",
    "    predictions = sess.run(indices)\n",
    "    predicitons = np.array([predictions])\n",
    "    \n",
    "print(\"predictions\")\n",
    "print(predictions)\n",
    "print(probs)\n",
    "\n",
    "#test_accuracy = evaluate(X_test, y_test)\n",
    "#print(\"Test Accuracy = {:.3f}\".format(test_accuracy))"
   ]
  },
  {
   "cell_type": "code",
   "execution_count": null,
   "metadata": {
    "collapsed": false
   },
   "outputs": [],
   "source": [
    "### Calculate the accuracy for these 5 new images. \n",
    "### For example, if the model predicted 1 out of 5 signs correctly, it's 20% accurate on these new images.\n",
    "\n",
    "acurracyNewImages= 2*100/5 \n",
    "\n",
    "print(acurracyNewImages ,\"%\")"
   ]
  },
  {
   "cell_type": "markdown",
   "metadata": {},
   "source": [
    "### Output Top 5 Softmax Probabilities For Each Image Found on the Web"
   ]
  },
  {
   "cell_type": "markdown",
   "metadata": {},
   "source": [
    "For each of the new images, print out the model's softmax probabilities to show the **certainty** of the model's predictions (limit the output to the top 5 probabilities for each image). [`tf.nn.top_k`](https://www.tensorflow.org/versions/r0.12/api_docs/python/nn.html#top_k) could prove helpful here. \n",
    "\n",
    "The example below demonstrates how tf.nn.top_k can be used to find the top k predictions for each image.\n",
    "\n",
    "`tf.nn.top_k` will return the values and indices (class ids) of the top k predictions. So if k=3, for each sign, it'll return the 3 largest probabilities (out of a possible 43) and the correspoding class ids.\n",
    "\n",
    "Take this numpy array as an example. The values in the array represent predictions. The array contains softmax probabilities for five candidate images with six possible classes. `tk.nn.top_k` is used to choose the three classes with the highest probability:\n",
    "\n",
    "```\n",
    "# (5, 6) array\n",
    "a = np.array([[ 0.24879643,  0.07032244,  0.12641572,  0.34763842,  0.07893497,\n",
    "         0.12789202],\n",
    "       [ 0.28086119,  0.27569815,  0.08594638,  0.0178669 ,  0.18063401,\n",
    "         0.15899337],\n",
    "       [ 0.26076848,  0.23664738,  0.08020603,  0.07001922,  0.1134371 ,\n",
    "         0.23892179],\n",
    "       [ 0.11943333,  0.29198961,  0.02605103,  0.26234032,  0.1351348 ,\n",
    "         0.16505091],\n",
    "       [ 0.09561176,  0.34396535,  0.0643941 ,  0.16240774,  0.24206137,\n",
    "         0.09155967]])\n",
    "```\n",
    "\n",
    "Running it through `sess.run(tf.nn.top_k(tf.constant(a), k=3))` produces:\n",
    "\n",
    "```\n",
    "TopKV2(values=array([[ 0.34763842,  0.24879643,  0.12789202],\n",
    "       [ 0.28086119,  0.27569815,  0.18063401],\n",
    "       [ 0.26076848,  0.23892179,  0.23664738],\n",
    "       [ 0.29198961,  0.26234032,  0.16505091],\n",
    "       [ 0.34396535,  0.24206137,  0.16240774]]), indices=array([[3, 0, 5],\n",
    "       [0, 1, 4],\n",
    "       [0, 5, 1],\n",
    "       [1, 3, 5],\n",
    "       [1, 4, 3]], dtype=int32))\n",
    "```\n",
    "\n",
    "Looking just at the first row we get `[ 0.34763842,  0.24879643,  0.12789202]`, you can confirm these are the 3 largest probabilities in `a`. You'll also notice `[3, 0, 5]` are the corresponding indices."
   ]
  },
  {
   "cell_type": "code",
   "execution_count": null,
   "metadata": {
    "collapsed": true
   },
   "outputs": [],
   "source": [
    "#Preprocess images\n",
    "### Make sure to pre-process the images with the same pre-processing pipeline used earlier.\n",
    "        \n",
    "def plotNewImagesResult(predictions, counter):\n",
    "    \n",
    "    \n",
    "    # Prepare original and preprocessed images\n",
    "    original = mpimg.imread(os.getcwd() + '/examples/' + \"cropexample{0:0>2}\".format(i + 1) + '.jpg')\n",
    "    preprocessed = X_newImages[counter].reshape(32, 32)\n",
    "    # Prepare the grid\n",
    "    pyplot.figure(figsize = (6, 2))\n",
    "    gridspec.GridSpec(2, 2)\n",
    "    \n",
    "    # Plot original image\n",
    "    pyplot.subplot2grid((2, 2), (0, 0), colspan=1, rowspan=1)\n",
    "    pyplot.imshow(original)\n",
    "    pyplot.axis('off')\n",
    "\n",
    "    # Plot preprocessed image\n",
    "    pyplot.subplot2grid((2, 2), (1, 0), colspan=1, rowspan=1)\n",
    "    pyplot.imshow(preprocessed, cmap='gray')\n",
    "    pyplot.axis('off')\n",
    "\n",
    "    # Plot predictions\n",
    "    pyplot.subplot2grid((2, 2), (0, 1), colspan=1, rowspan=2)\n",
    "    pyplot.barh(np.arange(5)+.5, probs[counter], align='center')\n",
    "    #pyplot.barh(np.arange(5)+.5, predictions[counter], align='center')\n",
    "    #pyplot.barh(np.arange(5)+.5, np.arange(1), align='center')\n",
    "    #pyplot.yticks(np.arange(5)+.5, signnames[predictions[1][counter].astype(int)])\n",
    "    pyplot.yticks(np.arange(5)+.5, signnames[predictions[counter].astype(int)])\n",
    "    pyplot.tick_params(axis='both', which='both', labelleft='off', labelright='on', labeltop='off', labelbottom='on')\n",
    "    #plt.gca().invert_yaxis()\n",
    "\n",
    "\n",
    "\n",
    "    \n",
    "    pyplot.show()"
   ]
  },
  {
   "cell_type": "code",
   "execution_count": null,
   "metadata": {
    "collapsed": false
   },
   "outputs": [],
   "source": [
    "# For every example plot original image, preprocessed image, and model predictions.\n",
    "signnames = read_csv(\"signnames.csv\").values[:, 1]\n",
    "\n",
    "for i in range(5):\n",
    "    print(\"Actual class: \", signnames[y_newImages[i]] if y_newImages[i] != 99 else \"None\")\n",
    "    plotNewImagesResult(predictions, i)\n",
    "    print(\"---------------------------------------------------------------------------------------------------\\n\")"
   ]
  },
  {
   "cell_type": "markdown",
   "metadata": {},
   "source": [
    "---\n",
    "\n",
    "## Step 4: Visualize the Neural Network's State with Test Images\n",
    "\n",
    " This Section is not required to complete but acts as an additional excersise for understaning the output of a neural network's weights. While neural networks can be a great learning device they are often referred to as a black box. We can understand what the weights of a neural network look like better by plotting their feature maps. After successfully training your neural network you can see what it's feature maps look like by plotting the output of the network's weight layers in response to a test stimuli image. From these plotted feature maps, it's possible to see what characteristics of an image the network finds interesting. For a sign, maybe the inner network feature maps react with high activation to the sign's boundary outline or to the contrast in the sign's painted symbol.\n",
    "\n",
    " Provided for you below is the function code that allows you to get the visualization output of any tensorflow weight layer you want. The inputs to the function should be a stimuli image, one used during training or a new one you provided, and then the tensorflow variable name that represents the layer's state during the training process, for instance if you wanted to see what the [LeNet lab's](https://classroom.udacity.com/nanodegrees/nd013/parts/fbf77062-5703-404e-b60c-95b78b2f3f9e/modules/6df7ae49-c61c-4bb2-a23e-6527e69209ec/lessons/601ae704-1035-4287-8b11-e2c2716217ad/concepts/d4aca031-508f-4e0b-b493-e7b706120f81) feature maps looked like for it's second convolutional layer you could enter conv2 as the tf_activation variable.\n",
    "\n",
    "For an example of what feature map outputs look like, check out NVIDIA's results in their paper [End-to-End Deep Learning for Self-Driving Cars](https://devblogs.nvidia.com/parallelforall/deep-learning-self-driving-cars/) in the section Visualization of internal CNN State. NVIDIA was able to show that their network's inner weights had high activations to road boundary lines by comparing feature maps from an image with a clear path to one without. Try experimenting with a similar test to show that your trained network's weights are looking for interesting features, whether it's looking at differences in feature maps from images with or without a sign, or even what feature maps look like in a trained network vs a completely untrained one on the same sign image.\n",
    "\n",
    "<figure>\n",
    " <img src=\"visualize_cnn.png\" width=\"380\" alt=\"Combined Image\" />\n",
    " <figcaption>\n",
    " <p></p> \n",
    " <p style=\"text-align: center;\"> Your output should look something like this (above)</p> \n",
    " </figcaption>\n",
    "</figure>\n",
    " <p></p> \n"
   ]
  },
  {
   "cell_type": "code",
   "execution_count": null,
   "metadata": {
    "collapsed": true
   },
   "outputs": [],
   "source": [
    "### Visualize your network's feature maps here.\n",
    "### Feel free to use as many code cells as needed.\n",
    "\n",
    "# image_input: the test image being fed into the network to produce the feature maps\n",
    "# tf_activation: should be a tf variable name used during your training procedure that represents the calculated state of a specific weight layer\n",
    "# activation_min/max: can be used to view the activation contrast in more detail, by default matplot sets min and max to the actual min and max values of the output\n",
    "# plt_num: used to plot out multiple different weight feature map sets on the same block, just extend the plt number for each new feature map entry\n",
    "\n",
    "def outputFeatureMap(image_input, tf_activation, activation_min=-1, activation_max=-1 ,plt_num=1):\n",
    "    # Here make sure to preprocess your image_input in a way your network expects\n",
    "    # with size, normalization, ect if needed\n",
    "    # image_input =\n",
    "    # Note: x should be the same name as your network's tensorflow data placeholder variable\n",
    "    # If you get an error tf_activation is not defined it maybe having trouble accessing the variable from inside a function\n",
    "    activation = tf_activation.eval(session=sess,feed_dict={x : image_input})\n",
    "    featuremaps = activation.shape[3]\n",
    "    plt.figure(plt_num, figsize=(15,15))\n",
    "    for featuremap in range(featuremaps):\n",
    "        plt.subplot(6,8, featuremap+1) # sets the number of feature maps to show on each row and column\n",
    "        plt.title('FeatureMap ' + str(featuremap)) # displays the feature map number\n",
    "        if activation_min != -1 & activation_max != -1:\n",
    "            plt.imshow(activation[0,:,:, featuremap], interpolation=\"nearest\", vmin =activation_min, vmax=activation_max, cmap=\"gray\")\n",
    "        elif activation_max != -1:\n",
    "            plt.imshow(activation[0,:,:, featuremap], interpolation=\"nearest\", vmax=activation_max, cmap=\"gray\")\n",
    "        elif activation_min !=-1:\n",
    "            plt.imshow(activation[0,:,:, featuremap], interpolation=\"nearest\", vmin=activation_min, cmap=\"gray\")\n",
    "        else:\n",
    "            plt.imshow(activation[0,:,:, featuremap], interpolation=\"nearest\", cmap=\"gray\")"
   ]
  },
  {
   "cell_type": "markdown",
   "metadata": {},
   "source": [
    "### Question 9\n",
    "\n",
    "Discuss how you used the visual output of your trained network's feature maps to show that it had learned to look for interesting characteristics in traffic sign images\n"
   ]
  },
  {
   "cell_type": "markdown",
   "metadata": {},
   "source": [
    "**Answer:**"
   ]
  },
  {
   "cell_type": "markdown",
   "metadata": {},
   "source": [
    "> **Note**: Once you have completed all of the code implementations and successfully answered each question above, you may finalize your work by exporting the iPython Notebook as an HTML document. You can do this by using the menu above and navigating to  \\n\",\n",
    "    \"**File -> Download as -> HTML (.html)**. Include the finished document along with this notebook as your submission."
   ]
  },
  {
   "cell_type": "markdown",
   "metadata": {},
   "source": [
    "### Project Writeup\n",
    "\n",
    "Once you have completed the code implementation, document your results in a project writeup using this [template](https://github.com/udacity/CarND-Traffic-Sign-Classifier-Project/blob/master/writeup_template.md) as a guide. The writeup can be in a markdown or pdf file. "
   ]
  }
 ],
 "metadata": {
  "anaconda-cloud": {},
  "kernelspec": {
   "display_name": "Python 3",
   "language": "python",
   "name": "python3"
  },
  "language_info": {
   "codemirror_mode": {
    "name": "ipython",
    "version": 3
   },
   "file_extension": ".py",
   "mimetype": "text/x-python",
   "name": "python",
   "nbconvert_exporter": "python",
   "pygments_lexer": "ipython3",
   "version": "3.5.2"
  },
  "widgets": {
   "state": {},
   "version": "1.1.2"
  }
 },
 "nbformat": 4,
 "nbformat_minor": 1
}
